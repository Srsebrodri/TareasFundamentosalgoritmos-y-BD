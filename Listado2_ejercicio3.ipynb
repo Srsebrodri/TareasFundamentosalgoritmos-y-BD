{
 "cells": [
  {
   "cell_type": "markdown",
   "id": "dc1b4b18",
   "metadata": {},
   "source": [
    "## pregunta 3"
   ]
  },
  {
   "cell_type": "markdown",
   "id": "d8194268",
   "metadata": {},
   "source": [
    "Para mejor demostración se implementara el mismo ejemplo segun la tarea con la lista de [Perro, gato, conejo].\n",
    "En necesidad de enumerar estas listas de objetos con su respectivo indice, se da como mejor grupo a clasificar\n",
    "con diccionario , primero definiendo la funcion que pueda dar el numero del indice \"i\". Esto lo junta con una \n",
    "lista llamada lista2 , ya que siendo de igual tamaño pueden sumarse directamente a crear un diccionario con \n",
    "su posicion."
   ]
  },
  {
   "cell_type": "code",
   "execution_count": 24,
   "id": "e34d2bd8",
   "metadata": {},
   "outputs": [],
   "source": [
    "lista1 = ['Perro','gato','conejo']"
   ]
  },
  {
   "cell_type": "code",
   "execution_count": 26,
   "id": "9f49f5cc",
   "metadata": {},
   "outputs": [
    {
     "name": "stdout",
     "output_type": "stream",
     "text": [
      "{'Perro': 0, 'gato': 1, 'conejo': 2}\n"
     ]
    }
   ],
   "source": [
    "def crear_diccionario(lista1):\n",
    "    lista2 = []\n",
    "    for i in range(len(lista1)):\n",
    "        lista2.append(i)\n",
    "        diccionario = dict(zip(lista1,lista2))\n",
    "    return diccionario\n",
    "resultado = crear_diccionario(lista1)\n",
    "print(resultado)        \n",
    "        \n",
    "    "
   ]
  }
 ],
 "metadata": {
  "kernelspec": {
   "display_name": "Python 3 (ipykernel)",
   "language": "python",
   "name": "python3"
  },
  "language_info": {
   "codemirror_mode": {
    "name": "ipython",
    "version": 3
   },
   "file_extension": ".py",
   "mimetype": "text/x-python",
   "name": "python",
   "nbconvert_exporter": "python",
   "pygments_lexer": "ipython3",
   "version": "3.9.7"
  }
 },
 "nbformat": 4,
 "nbformat_minor": 5
}
