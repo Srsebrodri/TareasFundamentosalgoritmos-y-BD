{
 "cells": [
  {
   "cell_type": "markdown",
   "id": "6c616f8f",
   "metadata": {},
   "source": [
    "# Listado 2 "
   ]
  },
  {
   "cell_type": "markdown",
   "id": "bd448807",
   "metadata": {},
   "source": [
    "## Pregunta 1"
   ]
  },
  {
   "cell_type": "code",
   "execution_count": 51,
   "id": "67124fdf",
   "metadata": {},
   "outputs": [],
   "source": [
    "lista1 = [2,1,4,10] # estas listas son los ejemplos vistos en clase para poder usar como ejemplo en el ejercicio.\n",
    "lista2 = [4,11,1,24,1]"
   ]
  },
  {
   "cell_type": "code",
   "execution_count": 48,
   "id": "a2b2a789",
   "metadata": {},
   "outputs": [],
   "source": [
    "def calcula_interseccion(lista1,lista2):\n",
    "    lista_comun = []\n",
    "    for e1 in lista1:\n",
    "        for e2 in lista2:\n",
    "            if(e1==e2):\n",
    "                lista_comun.append(e1)\n",
    "                break\n",
    "    return lista_comun"
   ]
  },
  {
   "cell_type": "code",
   "execution_count": 49,
   "id": "bbb52d6e",
   "metadata": {},
   "outputs": [
    {
     "name": "stdout",
     "output_type": "stream",
     "text": [
      "[1, 4]\n"
     ]
    }
   ],
   "source": [
    "interseccion = calcula_interseccion(lista1,lista2)\n",
    "print(interseccion)"
   ]
  },
  {
   "cell_type": "markdown",
   "id": "b14593dc",
   "metadata": {},
   "source": [
    "Como se puede obeservar dentro en el algoritmo , cuando se llama  a la funcion de la interseccion entre ambas\n",
    "listas, al llamarlas en distinto orden imprime un resultado diferente ,repitiendo el valor 1 mas de 1 vez por estar\n",
    "repetido en la lista 2 y en el ciclo \"for\" este recorre cada elemento de la lista1 y hace solo el \"break\" en la \n",
    "busqueda de la lista 2, dejando que este se compare por n veces (elementos de la lista1) multiplicado por \n",
    "y m veces (elemenentos lista2) dando la cantidad de operaciones que realiza la maquina con respecto a la cantidad \n",
    "de elementos de ambas listas.\n",
    "\n",
    "Para poder solucionar el problema alterando la funcion , no agregando mas operaciones en general der busqueda\n",
    "pero poder alterar la categoria de los datos de las listas , independiente su cantidad de elementos y orden \n",
    "a la llamada del algortimo es realizar , es transformar las listas a conjuntos para aplicar la funcion \"&\" que \n",
    "realiza la operación matemática conocida como intersección de conjuntos."
   ]
  },
  {
   "cell_type": "code",
   "execution_count": 50,
   "id": "b639eacd",
   "metadata": {
    "scrolled": true
   },
   "outputs": [
    {
     "name": "stdout",
     "output_type": "stream",
     "text": [
      "[4, 1, 1]\n"
     ]
    }
   ],
   "source": [
    "interseccion = calcula_interseccion(lista2,lista1) # Aqui va el problema de contar los elementos lista2 completos\n",
    "print(interseccion )# presentando el 1 repetido siendo que deberia solo entregar una sola vez el \"1\""
   ]
  },
  {
   "cell_type": "code",
   "execution_count": null,
   "id": "8cb9bd29",
   "metadata": {},
   "outputs": [],
   "source": [
    "lista1 = [2,1,4,10] # estas listas son los ejemplos vistos en clase para poder usar como ejemplo en el ejercicio.\n",
    "lista2 = [4,11,1,24,1]"
   ]
  },
  {
   "cell_type": "markdown",
   "id": "0b1183e6",
   "metadata": {},
   "source": [
    "Si tenemos dos conjuntos A y B, A & B nos retorna otro conjunto que solo contiene los elementos que están\n",
    "presentes en ambos a la vez, descartando aquellos que estén presentes solo en uno:"
   ]
  },
  {
   "cell_type": "code",
   "execution_count": 67,
   "id": "228746fc",
   "metadata": {
    "scrolled": true
   },
   "outputs": [
    {
     "data": {
      "text/plain": [
       "[1, 4]"
      ]
     },
     "execution_count": 67,
     "metadata": {},
     "output_type": "execute_result"
    }
   ],
   "source": [
    "def elementos_comunes(lista2,lista1):\n",
    "    conjunto1 = set(lista1)\n",
    "    conjunto2 = set(lista2)\n",
    "    \n",
    "    return list(conjunto1 & conjunto2) # aqui es la funcion que ayuda a intersectar \n",
    "resultado = elementos_comunes(lista1,lista2)\n",
    "resultado"
   ]
  },
  {
   "cell_type": "markdown",
   "id": "fa58d094",
   "metadata": {},
   "source": [
    "En proceso de algoritmia puede no ser la mas eficiente en tiempo, ya que igualmente realiza una busqueda\n",
    "en todos los elementos de un conjunto como el algoritmo anterior, pero los conjuntos tienen una propiedad \n",
    "que permiten evitar el error al intercambiar el orden de las listas en la funcion de interseccion.\n",
    "\n",
    "Definicion de Conjunto en Python:\n",
    "Un conjunto o set es una colección de objetos sin repetición y desordenados.\n",
    "\n",
    "Como resultado entrega el valor de interseccion garantizando que los numeros repetidos sean filtrados y solo entregue\n",
    "el valor coincidido.\n",
    "\n"
   ]
  }
 ],
 "metadata": {
  "kernelspec": {
   "display_name": "Python 3 (ipykernel)",
   "language": "python",
   "name": "python3"
  },
  "language_info": {
   "codemirror_mode": {
    "name": "ipython",
    "version": 3
   },
   "file_extension": ".py",
   "mimetype": "text/x-python",
   "name": "python",
   "nbconvert_exporter": "python",
   "pygments_lexer": "ipython3",
   "version": "3.9.7"
  }
 },
 "nbformat": 4,
 "nbformat_minor": 5
}
