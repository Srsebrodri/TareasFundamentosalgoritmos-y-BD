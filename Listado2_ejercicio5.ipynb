{
 "cells": [
  {
   "cell_type": "markdown",
   "id": "999be268",
   "metadata": {},
   "source": [
    "## Ejercicio 5 Y 6"
   ]
  },
  {
   "cell_type": "markdown",
   "id": "8c9f4a4d",
   "metadata": {},
   "source": [
    "Se hara uso de la libreria pandas para leer el archivo csv , separando las columntas por el tab '\\t' y la\n",
    "columna de tiempo con decimal para que sea un numero flotante, pudiendo dar una correcta estadisitica descriptiva \n",
    "con a funcion describe(). midiendo la media , desv, max , y varios parametros para describir el conjunto de datos."
   ]
  },
  {
   "cell_type": "code",
   "execution_count": 483,
   "id": "c34b5491",
   "metadata": {},
   "outputs": [],
   "source": [
    "import pandas as pd \n",
    "df = pd.read_csv('MAPF_Algorithms.csv', sep='\\t' , decimal=',')"
   ]
  },
  {
   "cell_type": "code",
   "execution_count": 472,
   "id": "f6a2c245",
   "metadata": {},
   "outputs": [
    {
     "data": {
      "text/html": [
       "<div>\n",
       "<style scoped>\n",
       "    .dataframe tbody tr th:only-of-type {\n",
       "        vertical-align: middle;\n",
       "    }\n",
       "\n",
       "    .dataframe tbody tr th {\n",
       "        vertical-align: top;\n",
       "    }\n",
       "\n",
       "    .dataframe thead th {\n",
       "        text-align: right;\n",
       "    }\n",
       "</style>\n",
       "<table border=\"1\" class=\"dataframe\">\n",
       "  <thead>\n",
       "    <tr style=\"text-align: right;\">\n",
       "      <th></th>\n",
       "      <th>INSTANCE</th>\n",
       "      <th>Status MtMS</th>\n",
       "      <th>Cost SOC MtMS</th>\n",
       "      <th>Time SOC MtMS</th>\n",
       "      <th>Status ASP Base E</th>\n",
       "      <th>Cost SOC Status ASP Base E</th>\n",
       "      <th>Time SOC ASP Base E</th>\n",
       "      <th>Status Base F</th>\n",
       "      <th>Cost SOC Base F</th>\n",
       "      <th>Time SOC Base F</th>\n",
       "      <th>Status CBS</th>\n",
       "      <th>Cost SOC CBS</th>\n",
       "      <th>Time SOC CBS</th>\n",
       "      <th>Status BCP</th>\n",
       "      <th>Cost SOC BCP</th>\n",
       "      <th>Time SOC BCP</th>\n",
       "    </tr>\n",
       "  </thead>\n",
       "  <tbody>\n",
       "    <tr>\n",
       "      <th>0</th>\n",
       "      <td>Instance-20-10-20-0_enc1</td>\n",
       "      <td>0</td>\n",
       "      <td>268</td>\n",
       "      <td>0.64</td>\n",
       "      <td>0</td>\n",
       "      <td>268</td>\n",
       "      <td>2.498716</td>\n",
       "      <td>0</td>\n",
       "      <td>268</td>\n",
       "      <td>2.691330</td>\n",
       "      <td>0</td>\n",
       "      <td>268</td>\n",
       "      <td>0.004207</td>\n",
       "      <td>0</td>\n",
       "      <td>268.0</td>\n",
       "      <td>0.00</td>\n",
       "    </tr>\n",
       "    <tr>\n",
       "      <th>1</th>\n",
       "      <td>Instance-20-10-20-1_enc1</td>\n",
       "      <td>0</td>\n",
       "      <td>289</td>\n",
       "      <td>0.34</td>\n",
       "      <td>0</td>\n",
       "      <td>289</td>\n",
       "      <td>1.461292</td>\n",
       "      <td>0</td>\n",
       "      <td>289</td>\n",
       "      <td>2.003727</td>\n",
       "      <td>0</td>\n",
       "      <td>289</td>\n",
       "      <td>0.005492</td>\n",
       "      <td>0</td>\n",
       "      <td>289.0</td>\n",
       "      <td>0.00</td>\n",
       "    </tr>\n",
       "    <tr>\n",
       "      <th>2</th>\n",
       "      <td>Instance-20-10-20-2_enc1</td>\n",
       "      <td>0</td>\n",
       "      <td>246</td>\n",
       "      <td>0.28</td>\n",
       "      <td>0</td>\n",
       "      <td>246</td>\n",
       "      <td>1.080864</td>\n",
       "      <td>0</td>\n",
       "      <td>246</td>\n",
       "      <td>1.276926</td>\n",
       "      <td>0</td>\n",
       "      <td>246</td>\n",
       "      <td>0.011322</td>\n",
       "      <td>0</td>\n",
       "      <td>246.0</td>\n",
       "      <td>0.01</td>\n",
       "    </tr>\n",
       "    <tr>\n",
       "      <th>3</th>\n",
       "      <td>Instance-20-10-20-3_enc1</td>\n",
       "      <td>0</td>\n",
       "      <td>244</td>\n",
       "      <td>0.87</td>\n",
       "      <td>0</td>\n",
       "      <td>244</td>\n",
       "      <td>3.472508</td>\n",
       "      <td>0</td>\n",
       "      <td>244</td>\n",
       "      <td>3.460649</td>\n",
       "      <td>0</td>\n",
       "      <td>244</td>\n",
       "      <td>0.010936</td>\n",
       "      <td>0</td>\n",
       "      <td>244.0</td>\n",
       "      <td>0.01</td>\n",
       "    </tr>\n",
       "    <tr>\n",
       "      <th>4</th>\n",
       "      <td>Instance-20-10-20-4_enc1</td>\n",
       "      <td>0</td>\n",
       "      <td>262</td>\n",
       "      <td>0.14</td>\n",
       "      <td>0</td>\n",
       "      <td>262</td>\n",
       "      <td>0.579550</td>\n",
       "      <td>0</td>\n",
       "      <td>262</td>\n",
       "      <td>0.763945</td>\n",
       "      <td>0</td>\n",
       "      <td>262</td>\n",
       "      <td>0.000964</td>\n",
       "      <td>0</td>\n",
       "      <td>262.0</td>\n",
       "      <td>0.00</td>\n",
       "    </tr>\n",
       "    <tr>\n",
       "      <th>...</th>\n",
       "      <td>...</td>\n",
       "      <td>...</td>\n",
       "      <td>...</td>\n",
       "      <td>...</td>\n",
       "      <td>...</td>\n",
       "      <td>...</td>\n",
       "      <td>...</td>\n",
       "      <td>...</td>\n",
       "      <td>...</td>\n",
       "      <td>...</td>\n",
       "      <td>...</td>\n",
       "      <td>...</td>\n",
       "      <td>...</td>\n",
       "      <td>...</td>\n",
       "      <td>...</td>\n",
       "      <td>...</td>\n",
       "    </tr>\n",
       "    <tr>\n",
       "      <th>255</th>\n",
       "      <td>Instance-20-10-70-5_enc1</td>\n",
       "      <td>2</td>\n",
       "      <td>1715</td>\n",
       "      <td>600.00</td>\n",
       "      <td>3</td>\n",
       "      <td>-1</td>\n",
       "      <td>600.000000</td>\n",
       "      <td>1</td>\n",
       "      <td>1008</td>\n",
       "      <td>600.000000</td>\n",
       "      <td>3</td>\n",
       "      <td>-1</td>\n",
       "      <td>600.000000</td>\n",
       "      <td>3</td>\n",
       "      <td>1009.0</td>\n",
       "      <td>600.00</td>\n",
       "    </tr>\n",
       "    <tr>\n",
       "      <th>256</th>\n",
       "      <td>Instance-20-10-70-6_enc1</td>\n",
       "      <td>0</td>\n",
       "      <td>1023</td>\n",
       "      <td>99.29</td>\n",
       "      <td>1</td>\n",
       "      <td>1029</td>\n",
       "      <td>600.000000</td>\n",
       "      <td>0</td>\n",
       "      <td>1023</td>\n",
       "      <td>53.682332</td>\n",
       "      <td>3</td>\n",
       "      <td>-1</td>\n",
       "      <td>600.000000</td>\n",
       "      <td>0</td>\n",
       "      <td>1023.0</td>\n",
       "      <td>223.94</td>\n",
       "    </tr>\n",
       "    <tr>\n",
       "      <th>257</th>\n",
       "      <td>Instance-20-10-70-7_enc1</td>\n",
       "      <td>0</td>\n",
       "      <td>904</td>\n",
       "      <td>92.22</td>\n",
       "      <td>1</td>\n",
       "      <td>904</td>\n",
       "      <td>600.000000</td>\n",
       "      <td>0</td>\n",
       "      <td>904</td>\n",
       "      <td>24.704162</td>\n",
       "      <td>3</td>\n",
       "      <td>-1</td>\n",
       "      <td>600.000000</td>\n",
       "      <td>0</td>\n",
       "      <td>904.0</td>\n",
       "      <td>93.99</td>\n",
       "    </tr>\n",
       "    <tr>\n",
       "      <th>258</th>\n",
       "      <td>Instance-20-10-70-8_enc1</td>\n",
       "      <td>1</td>\n",
       "      <td>880</td>\n",
       "      <td>600.00</td>\n",
       "      <td>0</td>\n",
       "      <td>880</td>\n",
       "      <td>437.006353</td>\n",
       "      <td>0</td>\n",
       "      <td>880</td>\n",
       "      <td>34.458428</td>\n",
       "      <td>3</td>\n",
       "      <td>-1</td>\n",
       "      <td>600.000000</td>\n",
       "      <td>0</td>\n",
       "      <td>880.0</td>\n",
       "      <td>56.17</td>\n",
       "    </tr>\n",
       "    <tr>\n",
       "      <th>259</th>\n",
       "      <td>Instance-20-10-70-9_enc1</td>\n",
       "      <td>2</td>\n",
       "      <td>2212</td>\n",
       "      <td>600.00</td>\n",
       "      <td>3</td>\n",
       "      <td>-1</td>\n",
       "      <td>600.000000</td>\n",
       "      <td>0</td>\n",
       "      <td>979</td>\n",
       "      <td>106.591146</td>\n",
       "      <td>3</td>\n",
       "      <td>-1</td>\n",
       "      <td>600.000000</td>\n",
       "      <td>3</td>\n",
       "      <td>985.0</td>\n",
       "      <td>600.00</td>\n",
       "    </tr>\n",
       "  </tbody>\n",
       "</table>\n",
       "<p>260 rows × 16 columns</p>\n",
       "</div>"
      ],
      "text/plain": [
       "                     INSTANCE  Status MtMS  Cost SOC MtMS  Time SOC MtMS  \\\n",
       "0    Instance-20-10-20-0_enc1            0            268           0.64   \n",
       "1    Instance-20-10-20-1_enc1            0            289           0.34   \n",
       "2    Instance-20-10-20-2_enc1            0            246           0.28   \n",
       "3    Instance-20-10-20-3_enc1            0            244           0.87   \n",
       "4    Instance-20-10-20-4_enc1            0            262           0.14   \n",
       "..                        ...          ...            ...            ...   \n",
       "255  Instance-20-10-70-5_enc1            2           1715         600.00   \n",
       "256  Instance-20-10-70-6_enc1            0           1023          99.29   \n",
       "257  Instance-20-10-70-7_enc1            0            904          92.22   \n",
       "258  Instance-20-10-70-8_enc1            1            880         600.00   \n",
       "259  Instance-20-10-70-9_enc1            2           2212         600.00   \n",
       "\n",
       "     Status ASP Base E  Cost SOC Status ASP Base E  Time SOC ASP Base E  \\\n",
       "0                    0                         268             2.498716   \n",
       "1                    0                         289             1.461292   \n",
       "2                    0                         246             1.080864   \n",
       "3                    0                         244             3.472508   \n",
       "4                    0                         262             0.579550   \n",
       "..                 ...                         ...                  ...   \n",
       "255                  3                          -1           600.000000   \n",
       "256                  1                        1029           600.000000   \n",
       "257                  1                         904           600.000000   \n",
       "258                  0                         880           437.006353   \n",
       "259                  3                          -1           600.000000   \n",
       "\n",
       "     Status Base F  Cost SOC Base F  Time SOC Base F  Status CBS  \\\n",
       "0                0              268         2.691330           0   \n",
       "1                0              289         2.003727           0   \n",
       "2                0              246         1.276926           0   \n",
       "3                0              244         3.460649           0   \n",
       "4                0              262         0.763945           0   \n",
       "..             ...              ...              ...         ...   \n",
       "255              1             1008       600.000000           3   \n",
       "256              0             1023        53.682332           3   \n",
       "257              0              904        24.704162           3   \n",
       "258              0              880        34.458428           3   \n",
       "259              0              979       106.591146           3   \n",
       "\n",
       "     Cost SOC CBS  Time SOC CBS  Status BCP  Cost SOC BCP  Time SOC BCP  \n",
       "0             268      0.004207           0         268.0          0.00  \n",
       "1             289      0.005492           0         289.0          0.00  \n",
       "2             246      0.011322           0         246.0          0.01  \n",
       "3             244      0.010936           0         244.0          0.01  \n",
       "4             262      0.000964           0         262.0          0.00  \n",
       "..            ...           ...         ...           ...           ...  \n",
       "255            -1    600.000000           3        1009.0        600.00  \n",
       "256            -1    600.000000           0        1023.0        223.94  \n",
       "257            -1    600.000000           0         904.0         93.99  \n",
       "258            -1    600.000000           0         880.0         56.17  \n",
       "259            -1    600.000000           3         985.0        600.00  \n",
       "\n",
       "[260 rows x 16 columns]"
      ]
     },
     "execution_count": 472,
     "metadata": {},
     "output_type": "execute_result"
    }
   ],
   "source": [
    "df"
   ]
  },
  {
   "cell_type": "code",
   "execution_count": 482,
   "id": "466cddf6",
   "metadata": {
    "scrolled": true
   },
   "outputs": [
    {
     "data": {
      "text/plain": [
       "Index(['INSTANCE', 'Status MtMS', 'Cost SOC MtMS', 'Time SOC MtMS',\n",
       "       'Status ASP Base E', 'Cost SOC Status ASP Base E',\n",
       "       'Time SOC ASP Base E', 'Status Base F', 'Cost SOC Base F',\n",
       "       'Time SOC Base F', 'Status CBS', 'Cost SOC CBS', 'Time SOC CBS',\n",
       "       'Status BCP', 'Cost SOC BCP', 'Time SOC BCP'],\n",
       "      dtype='object')"
      ]
     },
     "execution_count": 482,
     "metadata": {},
     "output_type": "execute_result"
    }
   ],
   "source": [
    "df.columns"
   ]
  },
  {
   "cell_type": "markdown",
   "id": "fd1d0ef4",
   "metadata": {},
   "source": [
    "Se observan los nombres con la funcion columns , contando 15 columnas de datos ,describiendo a los diferentes algoritmos\n",
    "medidos en sus tiempos y su status"
   ]
  },
  {
   "cell_type": "code",
   "execution_count": 475,
   "id": "c0560c49",
   "metadata": {},
   "outputs": [
    {
     "data": {
      "text/html": [
       "<div>\n",
       "<style scoped>\n",
       "    .dataframe tbody tr th:only-of-type {\n",
       "        vertical-align: middle;\n",
       "    }\n",
       "\n",
       "    .dataframe tbody tr th {\n",
       "        vertical-align: top;\n",
       "    }\n",
       "\n",
       "    .dataframe thead th {\n",
       "        text-align: right;\n",
       "    }\n",
       "</style>\n",
       "<table border=\"1\" class=\"dataframe\">\n",
       "  <thead>\n",
       "    <tr style=\"text-align: right;\">\n",
       "      <th></th>\n",
       "      <th>Status MtMS</th>\n",
       "      <th>Cost SOC MtMS</th>\n",
       "      <th>Time SOC MtMS</th>\n",
       "      <th>Status ASP Base E</th>\n",
       "      <th>Cost SOC Status ASP Base E</th>\n",
       "      <th>Time SOC ASP Base E</th>\n",
       "      <th>Status Base F</th>\n",
       "      <th>Cost SOC Base F</th>\n",
       "      <th>Time SOC Base F</th>\n",
       "      <th>Status CBS</th>\n",
       "      <th>Cost SOC CBS</th>\n",
       "      <th>Time SOC CBS</th>\n",
       "      <th>Status BCP</th>\n",
       "      <th>Cost SOC BCP</th>\n",
       "      <th>Time SOC BCP</th>\n",
       "    </tr>\n",
       "  </thead>\n",
       "  <tbody>\n",
       "    <tr>\n",
       "      <th>count</th>\n",
       "      <td>260.000000</td>\n",
       "      <td>260.000000</td>\n",
       "      <td>260.000000</td>\n",
       "      <td>260.000000</td>\n",
       "      <td>260.000000</td>\n",
       "      <td>260.000000</td>\n",
       "      <td>260.000000</td>\n",
       "      <td>260.000000</td>\n",
       "      <td>260.000000</td>\n",
       "      <td>260.000000</td>\n",
       "      <td>260.000000</td>\n",
       "      <td>260.000000</td>\n",
       "      <td>260.000000</td>\n",
       "      <td>260.000000</td>\n",
       "      <td>260.000000</td>\n",
       "    </tr>\n",
       "    <tr>\n",
       "      <th>mean</th>\n",
       "      <td>0.080769</td>\n",
       "      <td>636.915385</td>\n",
       "      <td>73.869769</td>\n",
       "      <td>0.376923</td>\n",
       "      <td>537.807692</td>\n",
       "      <td>197.487235</td>\n",
       "      <td>0.019231</td>\n",
       "      <td>621.030769</td>\n",
       "      <td>29.525815</td>\n",
       "      <td>1.200000</td>\n",
       "      <td>287.542308</td>\n",
       "      <td>255.815734</td>\n",
       "      <td>0.150000</td>\n",
       "      <td>613.980769</td>\n",
       "      <td>44.328346</td>\n",
       "    </tr>\n",
       "    <tr>\n",
       "      <th>std</th>\n",
       "      <td>0.324685</td>\n",
       "      <td>265.359624</td>\n",
       "      <td>166.958135</td>\n",
       "      <td>0.716764</td>\n",
       "      <td>266.172734</td>\n",
       "      <td>265.342559</td>\n",
       "      <td>0.205182</td>\n",
       "      <td>223.693856</td>\n",
       "      <td>72.180776</td>\n",
       "      <td>1.472528</td>\n",
       "      <td>260.321486</td>\n",
       "      <td>286.604292</td>\n",
       "      <td>0.655096</td>\n",
       "      <td>228.689391</td>\n",
       "      <td>139.105063</td>\n",
       "    </tr>\n",
       "    <tr>\n",
       "      <th>min</th>\n",
       "      <td>0.000000</td>\n",
       "      <td>244.000000</td>\n",
       "      <td>0.130000</td>\n",
       "      <td>0.000000</td>\n",
       "      <td>-1.000000</td>\n",
       "      <td>0.555323</td>\n",
       "      <td>0.000000</td>\n",
       "      <td>-1.000000</td>\n",
       "      <td>0.729802</td>\n",
       "      <td>0.000000</td>\n",
       "      <td>-1.000000</td>\n",
       "      <td>0.000964</td>\n",
       "      <td>0.000000</td>\n",
       "      <td>-1.000000</td>\n",
       "      <td>0.000000</td>\n",
       "    </tr>\n",
       "    <tr>\n",
       "      <th>25%</th>\n",
       "      <td>0.000000</td>\n",
       "      <td>435.000000</td>\n",
       "      <td>1.190000</td>\n",
       "      <td>0.000000</td>\n",
       "      <td>363.000000</td>\n",
       "      <td>5.166739</td>\n",
       "      <td>0.000000</td>\n",
       "      <td>431.250000</td>\n",
       "      <td>4.688073</td>\n",
       "      <td>0.000000</td>\n",
       "      <td>-1.000000</td>\n",
       "      <td>0.074700</td>\n",
       "      <td>0.000000</td>\n",
       "      <td>428.000000</td>\n",
       "      <td>0.030000</td>\n",
       "    </tr>\n",
       "    <tr>\n",
       "      <th>50%</th>\n",
       "      <td>0.000000</td>\n",
       "      <td>633.500000</td>\n",
       "      <td>3.705000</td>\n",
       "      <td>0.000000</td>\n",
       "      <td>538.500000</td>\n",
       "      <td>19.219338</td>\n",
       "      <td>0.000000</td>\n",
       "      <td>631.000000</td>\n",
       "      <td>11.343162</td>\n",
       "      <td>0.000000</td>\n",
       "      <td>330.000000</td>\n",
       "      <td>33.855850</td>\n",
       "      <td>0.000000</td>\n",
       "      <td>623.500000</td>\n",
       "      <td>0.255000</td>\n",
       "    </tr>\n",
       "    <tr>\n",
       "      <th>75%</th>\n",
       "      <td>0.000000</td>\n",
       "      <td>792.000000</td>\n",
       "      <td>23.990000</td>\n",
       "      <td>1.000000</td>\n",
       "      <td>740.750000</td>\n",
       "      <td>600.000000</td>\n",
       "      <td>0.000000</td>\n",
       "      <td>790.250000</td>\n",
       "      <td>27.914031</td>\n",
       "      <td>3.000000</td>\n",
       "      <td>502.500000</td>\n",
       "      <td>600.000000</td>\n",
       "      <td>0.000000</td>\n",
       "      <td>781.750000</td>\n",
       "      <td>3.287500</td>\n",
       "    </tr>\n",
       "    <tr>\n",
       "      <th>max</th>\n",
       "      <td>2.000000</td>\n",
       "      <td>2212.000000</td>\n",
       "      <td>600.000000</td>\n",
       "      <td>3.000000</td>\n",
       "      <td>1058.000000</td>\n",
       "      <td>600.000000</td>\n",
       "      <td>3.000000</td>\n",
       "      <td>1058.000000</td>\n",
       "      <td>600.000000</td>\n",
       "      <td>3.000000</td>\n",
       "      <td>871.000000</td>\n",
       "      <td>600.000000</td>\n",
       "      <td>3.000000</td>\n",
       "      <td>1058.000000</td>\n",
       "      <td>600.030000</td>\n",
       "    </tr>\n",
       "  </tbody>\n",
       "</table>\n",
       "</div>"
      ],
      "text/plain": [
       "       Status MtMS  Cost SOC MtMS  Time SOC MtMS  Status ASP Base E  \\\n",
       "count   260.000000     260.000000     260.000000         260.000000   \n",
       "mean      0.080769     636.915385      73.869769           0.376923   \n",
       "std       0.324685     265.359624     166.958135           0.716764   \n",
       "min       0.000000     244.000000       0.130000           0.000000   \n",
       "25%       0.000000     435.000000       1.190000           0.000000   \n",
       "50%       0.000000     633.500000       3.705000           0.000000   \n",
       "75%       0.000000     792.000000      23.990000           1.000000   \n",
       "max       2.000000    2212.000000     600.000000           3.000000   \n",
       "\n",
       "       Cost SOC Status ASP Base E  Time SOC ASP Base E  Status Base F  \\\n",
       "count                  260.000000           260.000000     260.000000   \n",
       "mean                   537.807692           197.487235       0.019231   \n",
       "std                    266.172734           265.342559       0.205182   \n",
       "min                     -1.000000             0.555323       0.000000   \n",
       "25%                    363.000000             5.166739       0.000000   \n",
       "50%                    538.500000            19.219338       0.000000   \n",
       "75%                    740.750000           600.000000       0.000000   \n",
       "max                   1058.000000           600.000000       3.000000   \n",
       "\n",
       "       Cost SOC Base F  Time SOC Base F  Status CBS  Cost SOC CBS  \\\n",
       "count       260.000000       260.000000  260.000000    260.000000   \n",
       "mean        621.030769        29.525815    1.200000    287.542308   \n",
       "std         223.693856        72.180776    1.472528    260.321486   \n",
       "min          -1.000000         0.729802    0.000000     -1.000000   \n",
       "25%         431.250000         4.688073    0.000000     -1.000000   \n",
       "50%         631.000000        11.343162    0.000000    330.000000   \n",
       "75%         790.250000        27.914031    3.000000    502.500000   \n",
       "max        1058.000000       600.000000    3.000000    871.000000   \n",
       "\n",
       "       Time SOC CBS  Status BCP  Cost SOC BCP  Time SOC BCP  \n",
       "count    260.000000  260.000000    260.000000    260.000000  \n",
       "mean     255.815734    0.150000    613.980769     44.328346  \n",
       "std      286.604292    0.655096    228.689391    139.105063  \n",
       "min        0.000964    0.000000     -1.000000      0.000000  \n",
       "25%        0.074700    0.000000    428.000000      0.030000  \n",
       "50%       33.855850    0.000000    623.500000      0.255000  \n",
       "75%      600.000000    0.000000    781.750000      3.287500  \n",
       "max      600.000000    3.000000   1058.000000    600.030000  "
      ]
     },
     "execution_count": 475,
     "metadata": {},
     "output_type": "execute_result"
    }
   ],
   "source": [
    "df.describe()"
   ]
  },
  {
   "cell_type": "markdown",
   "id": "bb6228e2",
   "metadata": {},
   "source": [
    "Para poder realizar la visualicion de los tiempos acumulados de cada algoritmo vs la cantidad de veces se hara el \n",
    "filtro para los que si fueron resultos de manera optima ( status igual a '0'), para posteriormente hacerle los filtros\n",
    "de los tiempos de cada algoritmo de forma creciente. "
   ]
  },
  {
   "cell_type": "code",
   "execution_count": 477,
   "id": "da8daf9a",
   "metadata": {},
   "outputs": [],
   "source": [
    "import matplotlib.pyplot as plt"
   ]
  },
  {
   "cell_type": "markdown",
   "id": "a430c6da",
   "metadata": {},
   "source": [
    "Para ordenar en no alterar la bases de datos original transcribiremos las transformaciones a un objeto \n",
    "llamado \"datos\""
   ]
  },
  {
   "cell_type": "code",
   "execution_count": 146,
   "id": "3270c6eb",
   "metadata": {
    "scrolled": false
   },
   "outputs": [],
   "source": [
    "datos =df[  (df['Status MtMS']==0) &\n",
    "   (df['Status ASP Base E']==0) &\n",
    "   (df['Status Base F']==0) & \n",
    "   (df['Status CBS']==0) &\n",
    "   (df['Status BCP']==0) ]"
   ]
  },
  {
   "cell_type": "markdown",
   "id": "2895e083",
   "metadata": {},
   "source": [
    "Se puede observar un resumen de todas las funciones de algoritmos vs tiempo acumulado que hay en la bases de datos, \n",
    "por lo que se ven reflejados en el grafico\"Algoritmos vs tiempo acumulados\". Dentro del algoritmo se\n",
    "hizo recorrer la misma funcion de operar\n",
    "columnas de costo y tiempo para obtener la cantidad de veces que puede realizar el algoritmo en cada \n",
    "instancia (\"costo // tiempo\") por la columna llamada'suma_total', tambien haciendo lo mismo con las\n",
    "tablas de datos de los diferentes algoritmos. Es por esto que son 5 por : [ Mtms , ASPbase E, ASP base F, SOC CBS,\n",
    "SOC BCP]"
   ]
  },
  {
   "cell_type": "code",
   "execution_count": 465,
   "id": "d2a603f5",
   "metadata": {},
   "outputs": [
    {
     "data": {
      "image/png": "[encoded data removed]",
      "text/plain": [
       "<Figure size 432x288 with 1 Axes>"
      ]
     },
     "metadata": {
      "needs_background": "light"
     },
     "output_type": "display_data"
    }
   ],
   "source": [
    "plt.plot(frec_datos['Frec_abs_acum'], cuenta_datos['suma_total'])\n",
    "plt.plot(frec_datos2['Frec_abs_acum'], cuenta_datos3['suma_total'])\n",
    "plt.plot(frec_datos4['Frec_abs_acum'], cuenta_datos5['suma_total'])\n",
    "plt.plot(frec_datos6['Frec_abs_acum'], cuenta_datos7['suma_total'])\n",
    "plt.plot(frec_datos8['Frec_abs_acum'], cuenta_datos9['suma_total'])\n",
    "plt.ylim(0,50000)\n",
    "plt.xlabel('tiempo (s)')\n",
    "plt.ylabel('cantidad de instancias (n)')\n",
    "plt.title(\"Algoritmos vs tiempo acumulados\")\n",
    "plt.show()\n",
    "#se puso en "
   ]
  },
  {
   "cell_type": "markdown",
   "id": "eba767f9",
   "metadata": {},
   "source": [
    "Se puede observar como se determino la visualizacion de cada conjunto\n",
    "por separado para su mayor detalle, ya que por de sumarlas en un solo grafico tienen diferentes tendencias. "
   ]
  },
  {
   "cell_type": "markdown",
   "id": "f86f050a",
   "metadata": {},
   "source": [
    "Nota: Para realizar la correcta consulta en forma creciente de los tiempos y cantidades acumuladas\n",
    "    se hara en orden por atributo de la instancia  , por lo que se realizaran 5 filtros."
   ]
  },
  {
   "cell_type": "markdown",
   "id": "b55cdd57",
   "metadata": {},
   "source": [
    "## Datos MtMS"
   ]
  },
  {
   "cell_type": "code",
   "execution_count": 436,
   "id": "69de5eb3",
   "metadata": {},
   "outputs": [],
   "source": [
    "#Filtro para los datos de Time SOC MtMS\n",
    "filtro1 = datos.sort_values(['Time SOC MtMS'])\n",
    "frec = datos['Time SOC MtMS']\n",
    "cuenta = datos['Cost SOC MtMS']//datos['Time SOC MtMS']"
   ]
  },
  {
   "cell_type": "code",
   "execution_count": 382,
   "id": "b97fdc05",
   "metadata": {
    "scrolled": false
   },
   "outputs": [],
   "source": [
    "frec_datos=pd.DataFrame(frec)\n",
    "frec_datos.columns = ['Frec_abs']\n",
    "frec_datos\n",
    "Frec_acum = frec_datos['Frec_abs'].values\n",
    "acum = []\n",
    "valor_acum = 0 \n",
    "for i in Frec_acum :\n",
    "    valor_acum = valor_acum + i \n",
    "    acum.append(valor_acum)\n",
    "frec_datos['Frec_abs_acum'] = acum\n",
    "#Columna de valor almacenados como frec_datos['Frec_abs_acum'] dando el valor acumulado de tiempo SOC MtMS\n",
    "\n",
    "cuenta_datos=pd.DataFrame(cuenta)\n",
    "cuenta_datos.columns = ['suma']\n",
    "cuenta_datos\n",
    "F_acum2 = cuenta_datos['suma'].values\n",
    "acum1 = []\n",
    "valor_acum1 = 0\n",
    "for i in F_acum2:\n",
    "    valor_acum1 = valor_acum1 + i\n",
    "    acum1.append(valor_acum1)\n",
    "cuenta_datos['suma_total'] =    acum1    \n",
    "##Columna de valor almacenados como cuenta_datos['suma_total'] dando el valor acumulado de N° de veces \n",
    "\n"
   ]
  },
  {
   "cell_type": "code",
   "execution_count": 443,
   "id": "4f33a609",
   "metadata": {
    "scrolled": true
   },
   "outputs": [
    {
     "data": {
      "image/png": "[encoded data removed]",
      "text/plain": [
       "<Figure size 432x288 with 1 Axes>"
      ]
     },
     "metadata": {
      "needs_background": "light"
     },
     "output_type": "display_data"
    }
   ],
   "source": [
    "plt.plot(frec_datos['Frec_abs_acum'], cuenta_datos['suma_total'])\n",
    "plt.xlabel('tiempo (s)')\n",
    "plt.ylabel('cantidad de instancias (n)')\n",
    "plt.title(\"Algoritmos MtMS vs tiempo acumulados\")\n",
    "plt.show()"
   ]
  },
  {
   "cell_type": "markdown",
   "id": "dced61dc",
   "metadata": {},
   "source": [
    "## Datos Base E"
   ]
  },
  {
   "cell_type": "code",
   "execution_count": 375,
   "id": "ad61df01",
   "metadata": {},
   "outputs": [],
   "source": [
    " #aqui esta el filtro Time SOC ASP Base E\n",
    "filtro2 = datos.sort_values(['Time SOC ASP Base E'])\n",
    "frec1 = datos['Time SOC ASP Base E']\n",
    "cuenta2 = datos['Cost SOC Status ASP Base E']//datos['Time SOC ASP Base E']"
   ]
  },
  {
   "cell_type": "code",
   "execution_count": 376,
   "id": "364e9652",
   "metadata": {},
   "outputs": [],
   "source": [
    "frec_datos2=pd.DataFrame(frec1)\n",
    "frec_datos2.columns = ['Frec_abs']\n",
    "frec_datos2\n",
    "Frec_acum2 = frec_datos2['Frec_abs'].values\n",
    "acum2 = []\n",
    "valor_acum2 = 0 \n",
    "for i in Frec_acum2 :\n",
    "    valor_acum2 = valor_acum2 + i \n",
    "    acum2.append(valor_acum2)\n",
    "frec_datos2['Frec_abs_acum'] = acum2\n",
    "#Columna de valor almacenados como frec_datos2['Frec_abs_acum'] dando el valor acumulado de tiempo SOC Base E\n",
    "\n",
    "cuenta_datos3=pd.DataFrame(cuenta2)\n",
    "cuenta_datos3.columns = ['suma']\n",
    "cuenta_datos3\n",
    "F_acum3 = cuenta_datos3['suma'].values\n",
    "acum3 = []\n",
    "valor_acum3 = 0\n",
    "for i in F_acum3:\n",
    "    valor_acum3 = valor_acum3 + i\n",
    "    acum3.append(valor_acum3)\n",
    "cuenta_datos3['suma_total'] =    acum3\n",
    "##Columna de valor almacenados como cuenta_datos3['suma_total'] dando el valor acumulado de N° de veces "
   ]
  },
  {
   "cell_type": "code",
   "execution_count": 446,
   "id": "5c31a310",
   "metadata": {},
   "outputs": [
    {
     "data": {
      "image/png": "[encoded data removed]",
      "text/plain": [
       "<Figure size 432x288 with 1 Axes>"
      ]
     },
     "metadata": {
      "needs_background": "light"
     },
     "output_type": "display_data"
    }
   ],
   "source": [
    "plt.plot(frec_datos2['Frec_abs_acum'], cuenta_datos3['suma_total'])\n",
    "plt.xlabel('tiempo (s)')\n",
    "plt.ylabel('cantidad de instancias (n)')\n",
    "plt.title(\"Algoritmos Base E vs tiempo acumulados\")\n",
    "plt.show()"
   ]
  },
  {
   "cell_type": "markdown",
   "id": "b5084449",
   "metadata": {},
   "source": [
    "## Datos Base F"
   ]
  },
  {
   "cell_type": "code",
   "execution_count": 384,
   "id": "d38cb200",
   "metadata": {},
   "outputs": [],
   "source": [
    "#aqui va el filtro Time SOC Base F\n",
    "filtro5= datos.sort_values(['Time SOC Base F'])\n",
    "frec2 = datos['Time SOC Base F']\n",
    "cuenta3 = datos['Cost SOC Base F']//datos['Time SOC Base F']"
   ]
  },
  {
   "cell_type": "code",
   "execution_count": 385,
   "id": "6234e788",
   "metadata": {},
   "outputs": [],
   "source": [
    "frec_datos4=pd.DataFrame(frec2)\n",
    "frec_datos4.columns = ['Frec_abs']\n",
    "frec_datos4\n",
    "Frec_acum4 = frec_datos4['Frec_abs'].values\n",
    "acum4 = []\n",
    "valor_acum4 = 0 \n",
    "for i in Frec_acum4 :\n",
    "    valor_acum4 = valor_acum4 + i \n",
    "    acum4.append(valor_acum4)\n",
    "frec_datos4['Frec_abs_acum'] = acum4\n",
    "#Columna de valor almacenados como frec_datos4['Frec_abs_acum'] dando el valor acumulado de tiempo SOC Base F\n",
    "\n",
    "\n",
    "cuenta_datos5=pd.DataFrame(cuenta3)\n",
    "cuenta_datos5.columns = ['suma']\n",
    "cuenta_datos5\n",
    "F_acum5 = cuenta_datos5['suma'].values\n",
    "acum5 = []\n",
    "valor_acum5 = 0\n",
    "for i in F_acum5:\n",
    "    valor_acum5 = valor_acum5 + i\n",
    "    acum5.append(valor_acum5)\n",
    "cuenta_datos5['suma_total'] =    acum5\n",
    "##Columna de valor almacenados como cuenta_datos5['suma_total'] dando el valor acumulado de N° de veces "
   ]
  },
  {
   "cell_type": "code",
   "execution_count": 447,
   "id": "ec4aab35",
   "metadata": {},
   "outputs": [
    {
     "data": {
      "image/png": "[encoded data removed]",
      "text/plain": [
       "<Figure size 432x288 with 1 Axes>"
      ]
     },
     "metadata": {
      "needs_background": "light"
     },
     "output_type": "display_data"
    }
   ],
   "source": [
    "plt.plot(frec_datos4['Frec_abs_acum'], cuenta_datos5['suma_total'])\n",
    "plt.xlabel('tiempo (s)')\n",
    "plt.ylabel('cantidad de instancias (n)')\n",
    "plt.title(\"Algoritmos Base F vs tiempo acumulados\")\n",
    "plt.show()"
   ]
  },
  {
   "cell_type": "markdown",
   "id": "b0cd1fe9",
   "metadata": {},
   "source": [
    "## Datos CBS"
   ]
  },
  {
   "cell_type": "code",
   "execution_count": 388,
   "id": "e53511f1",
   "metadata": {},
   "outputs": [],
   "source": [
    "#aqui va el filtro Time SOC CBS\n",
    "filtro3 = datos.sort_values(['Time SOC CBS'])\n",
    "frec3 = datos['Time SOC CBS']\n",
    "cuenta4 = datos['Cost SOC CBS']//datos['Time SOC CBS']"
   ]
  },
  {
   "cell_type": "code",
   "execution_count": 389,
   "id": "45576e65",
   "metadata": {},
   "outputs": [],
   "source": [
    "frec_datos6=pd.DataFrame(frec3)\n",
    "frec_datos6.columns = ['Frec_abs']\n",
    "frec_datos6\n",
    "Frec_acum6 = frec_datos6['Frec_abs'].values\n",
    "acum6 = []\n",
    "valor_acum6 = 0 \n",
    "for i in Frec_acum6 :\n",
    "    valor_acum6 = valor_acum6 + i \n",
    "    acum6.append(valor_acum6)\n",
    "frec_datos6['Frec_abs_acum'] = acum6\n",
    "#Columna de valor almacenados como frec_datos6['Frec_abs_acum'] dando el valor acumulado de tiempo SOC CBS\n",
    "\n",
    "cuenta_datos7=pd.DataFrame(cuenta4)\n",
    "cuenta_datos7.columns = ['suma']\n",
    "cuenta_datos7\n",
    "F_acum7 = cuenta_datos7['suma'].values\n",
    "acum7 = []\n",
    "valor_acum7 = 0\n",
    "for i in F_acum7:\n",
    "    valor_acum7 = valor_acum7 + i\n",
    "    acum7.append(valor_acum7)\n",
    "cuenta_datos7['suma_total'] =    acum7\n",
    "##Columna de valor almacenados como cuenta_datos7['suma_total'] dando el valor acumulado de N° de veces "
   ]
  },
  {
   "cell_type": "code",
   "execution_count": 448,
   "id": "435c0977",
   "metadata": {},
   "outputs": [
    {
     "data": {
      "image/png": "[encoded data removed]",
      "text/plain": [
       "<Figure size 432x288 with 1 Axes>"
      ]
     },
     "metadata": {
      "needs_background": "light"
     },
     "output_type": "display_data"
    }
   ],
   "source": [
    "plt.plot(frec_datos6['Frec_abs_acum'], cuenta_datos7['suma_total'])\n",
    "plt.xlabel('tiempo (s)')\n",
    "plt.ylabel('cantidad de instancias (n)')\n",
    "plt.title(\"Algoritmos CBS vs tiempo acumulados\")\n",
    "plt.show()"
   ]
  },
  {
   "cell_type": "markdown",
   "id": "80359c2d",
   "metadata": {},
   "source": [
    "## Datos BCP"
   ]
  },
  {
   "cell_type": "code",
   "execution_count": 411,
   "id": "46fec7e6",
   "metadata": {},
   "outputs": [],
   "source": [
    "#aqui va el filtro para Time SOC BCP\n",
    "filtro4 = datos.sort_values(['Time SOC BCP'])\n",
    "frec4 = datos['Time SOC BCP']\n",
    "cuenta5 = datos['Cost SOC BCP']//datos['Time SOC BCP']"
   ]
  },
  {
   "cell_type": "code",
   "execution_count": 412,
   "id": "7aa7145c",
   "metadata": {},
   "outputs": [],
   "source": [
    "frec_datos8=pd.DataFrame(frec4)\n",
    "frec_datos8.columns = ['Frec_abs']\n",
    "frec_datos8\n",
    "Frec_acum8 = frec_datos8['Frec_abs'].values\n",
    "acum8 = []\n",
    "valor_acum8 = 0 \n",
    "for i in Frec_acum8 :\n",
    "    valor_acum8 = valor_acum8 + i \n",
    "    acum8.append(valor_acum8)\n",
    "frec_datos8['Frec_abs_acum'] = acum8\n",
    "#Columna de valor almacenados como frec_datos8['Frec_abs_acum'] dando el valor acumulado de tiempo SOC BCP\n",
    "\n",
    "cuenta_datos9=pd.DataFrame(cuenta5)\n",
    "cuenta_datos9.columns = ['suma']\n",
    "cuenta_datos9\n",
    "F_acum9 = cuenta_datos9['suma'].values\n",
    "acum9 = []\n",
    "valor_acum9 = 0\n",
    "for i in F_acum9:\n",
    "    valor_acum9 = valor_acum9 + i\n",
    "    acum9.append(valor_acum9)\n",
    "cuenta_datos9['suma_total'] =    acum9\n",
    "##Columna de valor almacenados como cuenta_datos9['suma_total'] dando el valor acumulado de N° de veces "
   ]
  },
  {
   "cell_type": "code",
   "execution_count": 449,
   "id": "24f6a612",
   "metadata": {
    "scrolled": true
   },
   "outputs": [
    {
     "data": {
      "image/png": "[encoded data removed]",
      "text/plain": [
       "<Figure size 432x288 with 1 Axes>"
      ]
     },
     "metadata": {
      "needs_background": "light"
     },
     "output_type": "display_data"
    }
   ],
   "source": [
    "plt.plot(frec_datos8['Frec_abs_acum'], cuenta_datos9['suma_total'])\n",
    "plt.xlabel('tiempo (s)')\n",
    "plt.ylabel('cantidad de instancias (n)')\n",
    "plt.title(\"Algoritmos BCP vs tiempo acumulados\")\n",
    "plt.show()"
   ]
  }
 ],
 "metadata": {
  "kernelspec": {
   "display_name": "Python 3 (ipykernel)",
   "language": "python",
   "name": "python3"
  },
  "language_info": {
   "codemirror_mode": {
    "name": "ipython",
    "version": 3
   },
   "file_extension": ".py",
   "mimetype": "text/x-python",
   "name": "python",
   "nbconvert_exporter": "python",
   "pygments_lexer": "ipython3",
   "version": "3.9.7"
  }
 },
 "nbformat": 4,
 "nbformat_minor": 5
}
